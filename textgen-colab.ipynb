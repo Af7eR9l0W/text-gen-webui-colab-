{
  "cells": [
    {
      "cell_type": "markdown",
      "source": [
        "# 1 - DL latest version of webui"
      ],
      "metadata": {
        "id": "g6sKVT51PFZK"
      }
    },
    {
      "cell_type": "code",
      "source": [
        "####\n",
        "import requests\n",
        "\n",
        "# Fetch the release information from the GitHub API\n",
        "response = requests.get(\"https://api.github.com/repos/oobabooga/text-generation-webui/releases/latest\")\n",
        "response.raise_for_status()  # Raise an exception if the request fails\n",
        "\n",
        "# Extract the latest version number from the JSON response\n",
        "latest_version = response.json()[\"tag_name\"]\n",
        "\n",
        "# Print the latest version\n",
        "print(\"The latest version is:\", latest_version)\n",
        "\n",
        "# dl latest\n",
        "dl_latest = \"https://github.com/oobabooga/text-generation-webui/archive/refs/tags/\" + latest_version + \".zip\"\n",
        "print(dl_latest)\n",
        "\n",
        "# foldername\n",
        "extracted_folder_dl = \"text-generation-webui-\" + latest_version\n",
        "print(extracted_folder_dl)\n",
        "\n",
        "# dl and unzip\n",
        "dl_unzip = \"wget \" + dl_latest + \" &&\" + \" \" + \"unzip \" + latest_version + \".zip\"\n",
        "!{dl_unzip}\n",
        "\n",
        "# formatted command to give script execution\n",
        "dl_command = f\"cd {extracted_folder_dl}/ && chmod +x *.sh\"\n",
        "!{dl_command}\n",
        "print(\"Install successful!\")\n"
      ],
      "metadata": {
        "id": "2PRqoKOC29j2"
      },
      "execution_count": null,
      "outputs": []
    },
    {
      "cell_type": "markdown",
      "source": [
        "# 2 - Run the webui\n",
        "\n",
        "*be sure to select Nvidia and N*"
      ],
      "metadata": {
        "id": "oZ6vxYhbfa4u"
      }
    },
    {
      "cell_type": "code",
      "source": [
        "!cd {extracted_folder_dl} && bash start_linux.sh --share\n"
      ],
      "metadata": {
        "id": "NfF0l5J8fd5E"
      },
      "execution_count": null,
      "outputs": []
    },
    {
      "cell_type": "markdown",
      "source": [
        "# 3 - Noteable models\n",
        "\n",
        "| model | gguf | link | size |\n",
        "| --- | --- | --- | --- |\n",
        "| TheBloke/dolphin-2.5-mixtral-8x7b-GGUF | dolphin-2.5-mixtral-8x7b.Q6_K.gguf | https://huggingface.co/TheBloke/dolphin-2.5-mixtral-8x7b-GGUF | 38gb |\n",
        "\n"
      ],
      "metadata": {
        "id": "BqiQixzDzVWY"
      }
    }
  ],
  "metadata": {
    "colab": {
      "provenance": []
    },
    "kernelspec": {
      "display_name": "Python 3",
      "name": "python3"
    },
    "language_info": {
      "name": "python"
    }
  },
  "nbformat": 4,
  "nbformat_minor": 0
}

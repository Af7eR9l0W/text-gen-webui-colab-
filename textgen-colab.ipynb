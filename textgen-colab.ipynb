# 1 - DL latest version of webui
####
import requests

# Fetch the release information from the GitHub API
response = requests.get("https://api.github.com/repos/oobabooga/text-generation-webui/releases/latest")
response.raise_for_status()  # Raise an exception if the request fails

# Extract the latest version number from the JSON response
latest_version = response.json()["tag_name"]

# Print the latest version
print("The latest version is:", latest_version)

# dl latest
dl_latest = "https://github.com/oobabooga/text-generation-webui/archive/refs/tags/" + latest_version + ".zip"
print(dl_latest)

# foldername
extracted_folder_dl = "text-generation-webui-" + latest_version
print(extracted_folder_dl)

# dl and unzip
dl_unzip = "wget " + dl_latest + " &&" + " " + "unzip " + latest_version + ".zip"
!{dl_unzip}

# formatted command to give script execution
dl_command = f"cd {extracted_folder_dl}/ && chmod +x *.sh"
!{dl_command}
print("Install successful!")

# 2 - Run the webui

*be sure to select Nvidia and N*
!cd {extracted_folder_dl} && bash start_linux.sh --share

Notable models

| model | gguf | link | size |
| --- | --- | --- | --- |
| TheBloke/dolphin-2.5-mixtral-8x7b-GGUF | dolphin-2.5-mixtral-8x7b.Q6_K.gguf | https://huggingface.co/TheBloke/dolphin-2.5-mixtral-8x7b-GGUF | 38gb |
